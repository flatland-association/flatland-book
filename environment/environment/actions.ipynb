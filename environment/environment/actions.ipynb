{
 "cells": [
  {
   "cell_type": "markdown",
   "id": "c69aac81-f2a5-4263-8acd-e770eee3fd03",
   "metadata": {},
   "source": [
    "Actions\n",
    "=======\n",
    "\n",
    "The trains in Flatland have strongly limited movements, as you would expect from a railway simulation. This means that only a few actions are valid in most\n",
    "cases.\n",
    "\n",
    "Here are the possible actions:\n",
    "\n",
    "- **`DO_NOTHING`**:  If the agent is already moving, it continues moving. If it is stopped, it stays stopped. Special case: if the agent is at a dead-end, this\n",
    "  action will result in the train turning around.\n",
    "- **`MOVE_LEFT`**: This action is only valid at cells where the agent can change direction towards the left. If chosen, the left transition and a rotation of\n",
    "  the agent orientation to the left is executed. If the agent is stopped, this action will cause it to start moving in any cell where forward or left is\n",
    "  allowed!\n",
    "- **`MOVE_FORWARD`**: The agent will move forward. This action will start the agent when stopped. At switches, this will choose the forward direction.\n",
    "- **`MOVE_RIGHT`**: The same as deviate left but for right turns.\n",
    "- **`STOP_MOVING`**: This action causes the agent to stop.\n",
    "\n",
    "Flatland is a discrete time simulation, i.e. it performs all actions with constant time step. A single simulation step synchronously moves the time forward by a\n",
    "constant increment, thus enacting exactly one action per agent per timestep.\n",
    "\n",
    "```{admonition} Code reference\n",
    "The actions are defined in [flatland.envs.rail_env.RailEnvActions](https://github.com/flatland-association/flatland-rl/blob/main/flatland/envs/rail_env.py#L69).\n",
    "\n",
    "You can refer to the directions in your code using e.g., `RailEnvActions.MOVE_FORWARD`, `RailEnvActions.MOVE_RIGHT`...\n",
    "```"
   ]
  },
  {
   "cell_type": "code",
   "execution_count": null,
   "id": "f2a19e9f-f48d-416d-baca-cfb8c6a7ed8c",
   "metadata": {},
   "outputs": [],
   "source": [
    "from flatland.envs.rail_env import RailEnv, RailEnvActions\n",
    "for a in RailEnvActions:\n",
    "    print(f\"{a.name}: {a.value}\")"
   ]
  },
  {
   "cell_type": "markdown",
   "id": "7945c9b8-b1e3-4acd-be95-ed3210ceb1b8",
   "metadata": {},
   "source": [
    "The following diagram shows the interplay of agent position/direction and actions.\n",
    "\n",
    "The agent (red triangle) is in left switch cell with direction `W`. The left neighbor cell is a left switch, too.\n",
    "Upon entering the new cell, the `MOVE_LEFT` action will update the agent's direction to `S`, and the `MOVE_FORWARD` direction will keep the agent's direction at\n",
    "`W`.\n",
    "\n",
    "![Flatland_3_Update.drawio.png](../../assets/images/Flatland_3_Update.drawio.png)\n",
    "\n",
    "> *Pro memoria*\n",
    ">\n",
    "> **current position and direction** determine **next cell**\n",
    ">\n",
    "> **action** determines **next direction**\n"
   ]
  },
  {
   "cell_type": "markdown",
   "id": "1b5e308e-b335-4ec4-903c-b4dfb8ed969f",
   "metadata": {},
   "source": [
    "Variable Speeds\n",
    "---------------\n",
    "\n",
    "> This feature was introduced in [4.0.6](https://github.com/flatland-association/flatland-rl/pull/136)\n",
    "\n",
    "In Flatland, agents reflect both partially the Infrastructure Manager's (route choice) and the train drivers' decisions (stop/go).\n",
    "\n",
    "Variable speeds make Flatland more realistic. Agents can now run slower than their maximum speed (speed profile) by a re-interpretation of the `MOVE_FORWARD` action as acceleration and `STOP_MOVING` action as braking.\n",
    "\n",
    "Variable speeds reflect real-world trains running slower than their maximum allowed speed, either due to their physical properties (cargo vs. passenger trains) or due to reduced speed signalled by the Infrastructure Manager's safety system in order to ensure trains can stop within their allocated paths. Train driver's decisions to accelerate/brake also reflect resource optimisation (e.g. trains should wait and accelerator to run max speed through infrastructure bottlnecks) or energy optimsation (\"eco drive\")."
   ]
  },
  {
   "cell_type": "markdown",
   "id": "d8d008db-b4dd-4b59-9e64-9cc04d65493a",
   "metadata": {},
   "source": [
    "`RailEnv` takes two options:\n",
    "```\n",
    "        acceleration_delta : float\n",
    "            Determines how much speed is increased by MOVE_FORWARD action up to max_speed set by train's Line (sampled from `speed_ratios` by `LineGenerator`).\n",
    "            As speed is between 0.0 and 1.0, acceleration_delta=1.0 restores to previous constant speed behaviour\n",
    "            (i.e. MOVE_FORWARD always sets to max speed allowed for train).\n",
    "        braking_delta : float\n",
    "            Determines how much speed is decreased by STOP_MOVING action.\n",
    "            As speed is between 0.0 and 1.0, braking_delta=-1.0 restores to previous full stop behaviour.\n",
    "```\n",
    "If `acceleration_delta < 1.0`, then `MOVE_FORWARD` is re-interpreted as acceleration, i.e. the train's speed is increased by  `acceleration_delta` instead of going to full speed according to the train's speed profile. Hence, a train's speed profile is re-interpreted as its maximum speed.\n",
    "\n",
    "Similarly, if `braking_delta > -1.0`, then `STOP_MOVING` is re-interpreted as braking, i.e. the train's speed is decreased by `braking_delta` until it reaches speed `0.0`. When the train reaches speed `0.0`, then it goes into state `STOPPED` and a new moving action is required to get it moving."
   ]
  },
  {
   "cell_type": "markdown",
   "id": "f730ad44-ed0f-4fc1-a1e4-9317ea96628e",
   "metadata": {},
   "source": [
    "The rewards configuration `from flatland.envs.rewards import Rewards` takes an additional option:\n",
    "```\n",
    "        crash_penalty_factor = 0.0  # penalty for stopping train in conflict\n",
    "```\n",
    "This allows to penalize agents which produces trains running into each other. The Flatland env will set them to `STOPPED` state and add a negative reward in that step."
   ]
  },
  {
   "cell_type": "code",
   "execution_count": null,
   "id": "16bb2f53-c1a7-462d-af5c-4301f6534aa1",
   "metadata": {},
   "outputs": [],
   "source": [
    "import inspect\n",
    "\n",
    "from tests.test_variable_speed import test_variablespeed_actions_no_malfunction_no_blocking\n",
    "\n",
    "print(\"\".join(inspect.getsourcelines(test_variablespeed_actions_no_malfunction_no_blocking)[0]))"
   ]
  }
 ],
 "metadata": {
  "kernelspec": {
   "display_name": "Python 3 (ipykernel)",
   "language": "python",
   "name": "python3"
  },
  "language_info": {
   "codemirror_mode": {
    "name": "ipython",
    "version": 3
   },
   "file_extension": ".py",
   "mimetype": "text/x-python",
   "name": "python",
   "nbconvert_exporter": "python",
   "pygments_lexer": "ipython3",
   "version": "3.12.9"
  }
 },
 "nbformat": 4,
 "nbformat_minor": 5
}
