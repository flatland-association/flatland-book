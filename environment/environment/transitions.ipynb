{
 "cells": [
  {
   "cell_type": "markdown",
   "id": "78aabc59-8947-46a3-a1bb-12a777568dea",
   "metadata": {},
   "source": [
    "Environment and Transitions\n",
    "==============================\n",
    "\n",
    "Flatland is a 2D rectangular grid environment of arbitrary width and height, where the most primitive unit is a cell. Each cell has the capacity to hold a\n",
    "single agent (train).\n",
    "\n",
    "An agent in a cell can have a discrete orientation direction which represents the cardinal direction the agent is pointing to. An agent can move to a subset of\n",
    "adjacent cells. The subset of adjacent cells that an agent is allowed to transition to is defined by a 4-bit transition map representing possible transitions in\n",
    "4 different directions.\n",
    "\n",
    "![basic_railway_elements.drawio.png](../../assets/images/basic_railway_elements.drawio.png)\n",
    "\n",
    "*10 basic cells modulo rotation enable us to implement any real-world railway network in the flatland env*\n",
    "This gives a set of 30 valid transitions in total (see `#` giving number of rotations)."
   ]
  },
  {
   "cell_type": "code",
   "execution_count": null,
   "id": "ba0027ed-6518-4634-a795-80cc7ed126c7",
   "metadata": {},
   "outputs": [],
   "source": [
    "transition_list = [int('0000000000000000', 2),  # empty cell - Case 0\n",
    "                   int('1000000000100000', 2),  # Case 1 - straight\n",
    "                   int('1001001000100000', 2),  # Case 2 - simple switch\n",
    "                   int('1000010000100001', 2),  # Case 3 - diamond drossing\n",
    "                   int('1001011000100001', 2),  # Case 4 - single slip\n",
    "                   int('1100110000110011', 2),  # Case 5 - double slip\n",
    "                   int('0101001000000010', 2),  # Case 6 - symmetrical\n",
    "                   int('0010000000000000', 2),  # Case 7 - dead end\n",
    "                   int('0100000000000010', 2),  # Case 1b (8)  - simple turn right\n",
    "                   int('0001001000000000', 2),  # Case 1c (9)  - simple turn left\n",
    "                   int('1100000000100010', 2)]  # Case 2b (10) - simple switch mirrored"
   ]
  },
  {
   "cell_type": "markdown",
   "id": "823e2028-3072-4349-ae20-362f44133db6",
   "metadata": {},
   "source": [
    "Agents can only travel in the direction they are currently facing. Hence, the permitted transitions for any given agent depend both on its position and on its\n",
    "direction. Transition maps define the railway network in the flatland world. One can implement any real world railway network within the Flatland environment by\n",
    "manipulating the transition maps of cells."
   ]
  },
  {
   "cell_type": "markdown",
   "id": "7bdaf160-c820-4d26-b55f-d978986830ac",
   "metadata": {},
   "source": [
    "Transitions maps\n",
    "----------------\n",
    "\n",
    "The transition maps build the base for all movements in the environment. They contain all the information about allowed transitions for the agent at any given\n",
    "position. Because railway movement is limited to the railway tracks, these are important features for any controller that wants to interact with the\n",
    "environment.\n",
    "\n",
    "```{admonition} Code reference\n",
    "All functionality and features of transition maps can be found in [core/transition_map.py](https://github.com/flatland-association/flatland-rl/blob/main/flatland/core/transition_map.py).\n",
    "```\n",
    "\n",
    "There are two different possibilities to access the possible transitions at any given cell:\n",
    "\n",
    "### get_transitions()\n",
    "\n",
    "Provide a cell position and an orientation (usually the orientation of the agent) and call `env.rail.get_transitions(*position, direction)`. In return, you get\n",
    "will a 4D vector with the transition probability ordered as [North, East, South, West] given the initial orientation.\n",
    "\n",
    "The position is a tuple of the form `(x, y)` where $x \\in [0, h]$ and $y \\in [0, w]$ with $h$ and $w$ the height and width of the environment. This can be used\n",
    "for branching in a tree search and when looking for all possible allowed paths of an agent as it will provide a simple way to get the possible trajectories.\n",
    "\n",
    "### get_full_transitions()\n",
    "\n",
    "When more detailed information about the cell is necessary, you can also get the **full** transitions of a cell by calling\n",
    "`env.rail.get_full_transitions(*position)`. This will return an `int16` for the cell representing the allowed transitions.\n",
    "\n",
    "To understand the transitions returned it is best to represent it as a binary number `bin(transition_int)`, where the bits have to following meaning: NN NE NS\n",
    "NW EN EE ES EW SN SE SS SW WN WE WS WW.\n",
    "\n",
    "For example, the binary code 1000 0000 0010 0000, represents a straight where an agent facing north can transition north and an agent facing south can\n",
    "transition south and no other transitions are possible.\n",
    "\n",
    "To get a better feeling of what the binary representations of the elements look like, check the special cases of `GridTransitions` in [\n",
    "`RailEnvTransitions`](https://github.com/flatland-association/flatland-rl/blob/main/flatland/core/grid/rail_env_grid.py#L28). They are the set of transitions\n",
    "mimicking the types of real Swiss rail connections:"
   ]
  },
  {
   "cell_type": "code",
   "execution_count": null,
   "id": "e2e10b2e-e757-42d1-8612-2564c4f2d34b",
   "metadata": {},
   "outputs": [],
   "source": [
    "from flatland.core.grid.rail_env_grid import RailEnvTransitionsEnum\n",
    "print(len(RailEnvTransitionsEnum))\n",
    "for t in RailEnvTransitionsEnum:\n",
    "    print(f\"{t.name}:\\t{t.value:016b} \")"
   ]
  },
  {
   "cell_type": "markdown",
   "id": "2e24e277-4173-4434-a9ef-02908268ffff",
   "metadata": {},
   "source": [
    "These two objects can be used for example to detect switches that are usable by other agents, but not the observing agent itself. This can be an important feature when actions have to be taken in order to avoid conflicts."
   ]
  },
  {
   "cell_type": "code",
   "execution_count": null,
   "id": "ef35e871-6b6b-4b11-b63f-ec2a1be1e244",
   "metadata": {},
   "outputs": [],
   "source": [
    "from flatland.env_generation.env_generator import env_generator\n",
    "from flatland.utils.rendertools import RenderTool\n",
    "import PIL\n",
    "import numpy as np\n",
    "\n",
    "env, _, _ = env_generator()\n",
    "env_renderer = RenderTool(env)\n",
    "image = env_renderer.render_env(show=False, show_observations=False, show_predictions=False, return_image=True, show_rowcols=True)\n",
    "display(PIL.Image.fromarray(image))"
   ]
  },
  {
   "cell_type": "code",
   "execution_count": null,
   "id": "0dbea028-c57f-44f3-a824-6d4ea3eb6454",
   "metadata": {},
   "outputs": [],
   "source": [
    "# facing south on vertical switch north right\n",
    "position = (27,8)\n",
    "direction = 2\n",
    "\n",
    "RailEnvTransitionsEnum(env.rail.get_full_transitions(*position)).name"
   ]
  },
  {
   "cell_type": "code",
   "execution_count": null,
   "id": "f31eb3de-c48e-4811-97c1-4ea1c760159d",
   "metadata": {},
   "outputs": [],
   "source": [
    "cell_transitions = env.rail.get_transitions(*position, direction)\n",
    "print(f\"cell_transitions={cell_transitions}\")\n",
    "transition_bit = bin(env.rail.get_full_transitions(*position))\n",
    "print(f\"transition_bit={transition_bit}\")\n",
    "\n",
    "total_transitions = transition_bit.count(\"1\")\n",
    "print(f\"total_transitions={total_transitions}\")\n",
    "num_transitions = np.count_nonzero(cell_transitions)\n",
    "print(f\"num_transitions={num_transitions}\")\n",
    "\n",
    "# Detect Switches that can only be used by other agents.\n",
    "unusable_switch_detected=False\n",
    "if total_transitions > 2 > num_transitions:\n",
    "    unusable_switch_detected = True\n",
    "print(f\"unusable_switch_detected={unusable_switch_detected}\")"
   ]
  }
 ],
 "metadata": {
  "kernelspec": {
   "display_name": "Python 3 (ipykernel)",
   "language": "python",
   "name": "python3"
  },
  "language_info": {
   "codemirror_mode": {
    "name": "ipython",
    "version": 3
   },
   "file_extension": ".py",
   "mimetype": "text/x-python",
   "name": "python",
   "nbconvert_exporter": "python",
   "pygments_lexer": "ipython3",
   "version": "3.12.9"
  }
 },
 "nbformat": 4,
 "nbformat_minor": 5
}
