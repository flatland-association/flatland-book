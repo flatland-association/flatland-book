{
 "cells": [
  {
   "cell_type": "markdown",
   "id": "fe0e7a57-7315-413a-95d2-ffde86926c17",
   "metadata": {},
   "source": [
    "Stochasticity\n",
    "=============\n",
    "\n",
    "An important aspect of Flatland scenarios will be their **stochasticity**, which means how often and for how long trains will malfunction. Malfunctions force the\n",
    "agents to reconsider their plans, which can be costly.\n",
    "\n",
    "\n",
    "\n",
    "\n",
    "\n"
   ]
  },
  {
   "cell_type": "markdown",
   "id": "102693fd-0150-489b-a069-9380c883fd6b",
   "metadata": {},
   "source": [
    "## Effects Generators\n",
    "\n",
    "As described in <a href=\"../../key-concepts/key_concepts.html\">Key Concepts</a> section, effects generators allow to modify the environment state by two hooks:\n",
    "* `on_episode_step_start`\n",
    "* `on_episode_step_end`\n",
    "  \n",
    "This allows to introduce stochstasticity into a Flatland run.\n",
    "\n",
    "In contrast to `FlatlandCallbacks` which are used called by a trajectory runner/evaluator, effects generators are called by the simulation directly before and after the env's `step`."
   ]
  },
  {
   "cell_type": "markdown",
   "id": "36a5b674-01d3-4fdd-8186-411d7e5ec478",
   "metadata": {},
   "source": [
    "## Malfunctions\n",
    "Malfunctions are implemented by `MalfunctionEffectsGenerator` to simulate delays by stopping agents at random times for random durations. Trains that malfunction can’t move for a random, but\n",
    "known, number of steps. They of course block the trains following them 😬.\n",
    "Malfunctions\n",
    "\n",
    "Stochastic events are common in railway networks. The initial plan often needs to be rescheduled during operations as minor events such as delayed departure\n",
    "from train stations, various malfunctions on trains or infrastructure, or even problematic weather lead to delayed trains.\n",
    "\n",
    "Malfunctions are implemented using a [Poisson process](https://en.wikipedia.org/wiki/Poisson_point_process) to simulate delays by stopping agents at random\n",
    "times for random durations. Train that malfunction can't move for a random, but known, number of steps. They of course block the trains following them 😬\n",
    "\n",
    "The parameters necessary for the stochastic events are provided as a `NamedTuple` called `MalfunctionParameters`:\n"
   ]
  },
  {
   "cell_type": "code",
   "execution_count": null,
   "id": "4d4a0194-bb4f-4a20-a8a4-2826ad49d2fa",
   "metadata": {},
   "outputs": [],
   "source": [
    "from flatland.envs.malfunction_generators import MalfunctionParameters\n",
    "stochastic_data = MalfunctionParameters(\n",
    "    malfunction_rate=1 / 10000,  # Rate of malfunction occurence\n",
    "    min_duration=15,  # Minimal duration of malfunction\n",
    "    max_duration=50  # Max duration of malfunction\n",
    ")\n",
    "stochastic_data"
   ]
  },
  {
   "cell_type": "markdown",
   "id": "50e89f38-def0-439b-a5ee-ed1056ba0fe7",
   "metadata": {},
   "source": [
    "The parameters are as follows:\n",
    "\n",
    "- `malfunction_rate` is the mean rate of the poisson process in number of environment steps.\n",
    "- `min_duration` and `max_duration` set the range of malfunction durations. They are sampled uniformly.\n",
    "\n",
    "You can then introduce stochasticity in an environment by using the `malfunction_generator` parameter of the `RailEnv` constructor:\n",
    "\n"
   ]
  },
  {
   "cell_type": "markdown",
   "id": "b2e3040c-1571-4ed3-8f4e-9b1a9ec7c699",
   "metadata": {},
   "source": [
    "```python\n",
    "from flatland.envs.rail_env import RailEnv\n",
    "RailEnv(\n",
    "    ...\n",
    "malfunction_generator = ParamMalfunctionGen(stochastic_data),\n",
    "...\n",
    ")\n",
    "```"
   ]
  },
  {
   "cell_type": "markdown",
   "id": "e23a28c7-4562-4e2d-86e2-69a0ed5042d4",
   "metadata": {},
   "source": [
    "In your controller, you can then check whether an agent is malfunctioning:"
   ]
  },
  {
   "cell_type": "code",
   "execution_count": null,
   "id": "46901c73-7c5f-4017-8655-aac7a7d6202e",
   "metadata": {},
   "outputs": [],
   "source": [
    "from flatland.envs.rail_env import RailEnv\n",
    "from flatland.env_generation.env_generator import env_generator\n",
    "\n",
    "\n",
    "env, _, _ = env_generator(\n",
    "    malfunction_interval=1,  # Insanely low interval to show the effect. Inverse of rate of malfunction occurrence. Goes into `ParamMalfunctionGen`.\n",
    "    malfunction_duration_min=15,  # Minimal duration of malfunction\n",
    "    malfunction_duration_max=50  # Max duration of malfunction\n",
    ")\n",
    "env\n",
    "\n",
    "action_dict = dict()\n",
    "obs, rew, done, info = env.step(action_dict)\n",
    "\n",
    "\n",
    "for a in range(env.get_num_agents()):\n",
    "    if info['malfunction'][a] > 0:\n",
    "        # info['malfunction'][a] contains the number of steps this agent will still be blocked\n",
    "        print(f\"agent {a} is malfunctioning and can't move for {info['malfunction'][a]} steps!\")"
   ]
  },
  {
   "cell_type": "markdown",
   "id": "09ff3f86-3149-45c3-b5d9-8cb079d4be3a",
   "metadata": {},
   "source": [
    "You will quickly realize that this will lead to unforeseen difficulties which means that your controller needs to observe the environment at all times to be\n",
    "able to react to the stochastic events!\n",
    "\n",
    "<!-- [Check out the starter kit](https://gitlab.aicrowd.com/flatland/neurips2020-flatland-starter-kit/blob/master/reinforcement_learning/multi_agent_training.py#L55) for a complete example of how to train a model using malfunctions. -->"
   ]
  },
  {
   "cell_type": "markdown",
   "id": "37ccb84a-94d8-4587-a65a-f1df728da4a1",
   "metadata": {},
   "source": [
    "## Conditional Malfunctions\n",
    "\n",
    "`ConditionalMalfunctionEffectsGenerator` Generate agent malfunctions conditionally with conditional rate and duration:\n",
    "* `earliest_malfunction`\n",
    "* `max_num_malfunctions`\n",
    "* `condition` : `MalfunctionCondition` `EnvAgent`\n",
    "\n",
    "A `MalfunctionCondition` takes an `EnvAgent` and decides whether a malfunction should be drawn from the Poisson process. There are 3 pre-defined such conditions:\n",
    "\n",
    "* `on_map_state_condition`: is agent on map?\n",
    "* `condition_stopped_intermediate_and_range`: is agent stopped at an intermediate waypoint and in range of timesteps?\n",
    "* `condition_stopped_cells_and_range`: is agent stopped on any given cell and during range of timesteps`\n",
    "\n",
    "This feature allows to generate minor disruptions with faster recovery times at train stations.\n",
    "\n",
    "> This feature was introduced in [4.2.1](https://github.com/flatland-association/flatland-rl/pull/263)\n"
   ]
  },
  {
   "cell_type": "markdown",
   "id": "4b059e23-800a-485a-a9fa-8254b443b995",
   "metadata": {},
   "source": [
    "## Observation Perturbations\n",
    "\n",
    "Another stochastic feature are \"noisy observations\". They do not change the behaviour of the simulation/environment but introduce noise in the observation passed to the agent or controller, see [Figure 3.1: The agent–environment interaction in reinforcement learning Sutton and Burton: Reinforcement Learning, 2nd edition](http://incompleteideas.net/book/RLbook2020.pdf).\n",
    "\n",
    "Find more in the section on observation perturbations in the\n",
    "<a href=\"../observation_builder.html\">Observations</a> section."
   ]
  }
 ],
 "metadata": {
  "kernelspec": {
   "display_name": "Python 3 (ipykernel)",
   "language": "python",
   "name": "python3"
  },
  "language_info": {
   "codemirror_mode": {
    "name": "ipython",
    "version": 3
   },
   "file_extension": ".py",
   "mimetype": "text/x-python",
   "name": "python",
   "nbconvert_exporter": "python",
   "pygments_lexer": "ipython3",
   "version": "3.12.9"
  }
 },
 "nbformat": 4,
 "nbformat_minor": 5
}
