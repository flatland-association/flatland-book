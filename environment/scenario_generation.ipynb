{
 "cells": [
  {
   "cell_type": "markdown",
   "id": "13dccf6e-e266-45bb-9cfe-5ae9d3dfbce0",
   "metadata": {},
   "source": [
    "Scenario Generation\n",
    "================\n",
    "\n",
    "## Rail Generators, Line Generators and Timetable Generators\n",
    "\n",
    "The separation between rail generation and schedule generation reflects the organisational separation in the railway domain\n",
    "\n",
    "- Infrastructure Manager (IM): is responsible for the layout and maintenance of tracks simulated by `rail_generator`.\n",
    "- Railway Undertaking (RU): operates trains on the infrastructure\n",
    "  Usually, there is a third organisation, which ensures discrimination-free access to the infrastructure for concurrent requests for the infrastructure in a **schedule planning phase** simulated by `line_generator` and `timetable_generator`. However, in the **Flat**land challenge, we focus on the re-scheduling problem during live operations."
   ]
  },
  {
   "cell_type": "markdown",
   "id": "67148850-9ab6-4628-a8b3-e54493102dcf",
   "metadata": {},
   "source": [
    "We can produce `RailGenerator`s by completing the following:"
   ]
  },
  {
   "cell_type": "code",
   "execution_count": null,
   "id": "8205f278-8f73-4ff2-87ba-fccf417c960e",
   "metadata": {},
   "outputs": [],
   "source": [
    "from typing import Mapping, List\n",
    "\n",
    "from numpy.random.mtrand import RandomState\n",
    "\n",
    "from flatland.envs.line_generators import LineGenerator\n",
    "from flatland.envs.distance_map import DistanceMap\n",
    "from flatland.envs.agent_utils import EnvAgent\n",
    "from flatland.envs.timetable_utils import Timetable\n",
    "from flatland.envs.rail_env import RailEnv\n",
    "from flatland.envs import rail_generators as rail_gen\n",
    "from flatland.envs import line_generators as line_gen\n",
    "import flatland.envs.timetable_generators as ttg\n",
    "from flatland.utils import seeding"
   ]
  },
  {
   "cell_type": "code",
   "execution_count": null,
   "id": "8a315370-6f7c-43b1-b493-387de8749f77",
   "metadata": {},
   "outputs": [],
   "source": [
    "def sparse_rail_generator(max_num_cities=5, grid_mode=False, max_rails_between_cities=4,\n",
    "                          max_rail_pairs_in_city=4, seed=0):\n",
    "    def generator(width, height, num_agents, num_resets=0):\n",
    "        # generate the grid and (optionally) some hints for the line_generator\n",
    "        ...\n",
    "\n",
    "        return grid_map, {'agents_hints': {\n",
    "            'num_agents': num_agents,\n",
    "            'city_positions': city_positions,\n",
    "            'train_stations': train_stations,\n",
    "            'city_orientations': city_orientations\n",
    "        }}\n",
    "\n",
    "    return generator"
   ]
  },
  {
   "cell_type": "markdown",
   "id": "37c80a87-6375-41cf-b17b-50242e0f4483",
   "metadata": {},
   "source": [
    "Similarly, `LineGenerator`s:"
   ]
  },
  {
   "cell_type": "code",
   "execution_count": null,
   "id": "f8a3d840-2f7c-46da-940f-7aedd56a6ad9",
   "metadata": {},
   "outputs": [],
   "source": [
    "def sparse_line_generator(speed_ratio_map: Mapping[float, float] = None) -> LineGenerator:\n",
    "    def generator(rail: GridTransitionMap, num_agents: int, hints: Any = None):\n",
    "        # place agents:\n",
    "        # - initial position\n",
    "        # - initial direction\n",
    "        # - targets\n",
    "        # - speed data\n",
    "        # - malfunction data\n",
    "        ...\n",
    "\n",
    "        return agents_position, agents_direction, agents_target, speeds, agents_malfunction\n",
    "\n",
    "    return generator"
   ]
  },
  {
   "cell_type": "markdown",
   "id": "c417fa80-e2b0-4a68-adbd-b2b98e627ac9",
   "metadata": {},
   "source": [
    "And finally, `timetable_generator` is called within the `RailEnv`'s reset() during line generation to create a time table for the trains."
   ]
  },
  {
   "cell_type": "code",
   "execution_count": null,
   "id": "0980014c-7ebb-47b5-9d71-543aa876f17b",
   "metadata": {},
   "outputs": [],
   "source": [
    "def timetable_generator(agents: List[EnvAgent], distance_map: DistanceMap,\n",
    "                        agents_hints: dict, np_random: RandomState = None) -> Timetable:\n",
    "    # specify:\n",
    "    # - earliest departures\n",
    "    # - latest arrivals\n",
    "    # - max episode steps\n",
    "    ...\n",
    "\n",
    "    return Timetable(earliest_departures, latest_arrivals, max_episode_steps)"
   ]
  },
  {
   "cell_type": "code",
   "execution_count": null,
   "id": "6563486b-634a-4965-b465-af785710e049",
   "metadata": {},
   "outputs": [],
   "source": [
    "env = RailEnv(\n",
    "    width=30,\n",
    "    height=30,\n",
    "    rail_generator=rail_gen.sparse_rail_generator(\n",
    "            max_num_cities=2,\n",
    "            seed=42,\n",
    "            grid_mode=False,\n",
    "            max_rails_between_cities=2,\n",
    "            max_rail_pairs_in_city=2\n",
    "        ),\n",
    "        line_generator=line_gen.sparse_line_generator(speed_ratio_map={1.0: 0.25, 0.5: 0.25, 0.33: 0.25, 0.25: 0.25}, seed=42),\n",
    "        timetable_generator=ttg.timetable_generator,\n",
    ")\n",
    "obs, info = env.reset()\n",
    "info"
   ]
  },
  {
   "cell_type": "markdown",
   "id": "a775c7e2-1c35-4f24-9523-1120966ca27b",
   "metadata": {},
   "source": [
    "Inside `reset()`, rail, line and timetable generators are called as follows:"
   ]
  },
  {
   "cell_type": "code",
   "execution_count": null,
   "id": "bcf7d104-df3e-4a0d-9ffe-662afaf098ce",
   "metadata": {},
   "outputs": [],
   "source": [
    "rail, optionals = rail_gen.sparse_rail_generator(\n",
    "            max_num_cities=2,\n",
    "            seed=42,\n",
    "            grid_mode=False,\n",
    "            max_rails_between_cities=2,\n",
    "            max_rail_pairs_in_city=2\n",
    "        )(30,30,2)\n",
    "optionals"
   ]
  },
  {
   "cell_type": "code",
   "execution_count": null,
   "id": "3751c042-710e-4b1c-923b-e2298befd6c0",
   "metadata": {},
   "outputs": [],
   "source": [
    "line_gen.sparse_line_generator(speed_ratio_map={1.0: 0.25, 0.5: 0.25, 0.33: 0.25, 0.25: 0.25}, seed=42)(rail, 2, optionals[\"agents_hints\"], np_random=seeding.np_random(42)[0])"
   ]
  },
  {
   "cell_type": "markdown",
   "id": "0de779b7-4f96-4f8c-9b86-648be54333e5",
   "metadata": {},
   "source": [
    "Notice that the `rail_generator` may pass `agents_hints` to the  `line_generator` and `timetable_generator` which the latter may interpret.\n",
    "For instance, the way the `sparse_rail_generator` generates the grid, it already determines the agent's goal and target.\n",
    "Hence, `rail_generator`, `line_generator` and  `timetable_generator` have to match if `line_generator` presupposes some specific `agents_hints`.\n",
    "Currently, the only one used are the `sparse_rail_generator`, `sparse_line_generator` and the `timetable_generator` which works in conjunction with these."
   ]
  },
  {
   "cell_type": "markdown",
   "id": "384f1a22-30ed-411f-ae33-625ffdc0cc80",
   "metadata": {},
   "source": [
    "## Rail Generator\n",
    "\n",
    "## Available Rail Generators\n",
    "\n",
    "Flatland provides the [`sparse_rail_generator`](https://github.com/flatland-association/flatland-rl/blob/main/flatland/envs/rail_generators.py#L563), which generates realistic-looking railway networks.\n",
    "\n",
    "### Sparse rail generator\n",
    "\n",
    "\n",
    "The idea behind the sparse rail generator is to mimic classic railway structures where dense nodes (cities) are sparsely connected to each other and where you have to manage traffic flow between the nodes efficiently.\n",
    "The cities in this level generator are much simplified in comparison to real city networks but they mimic parts of the problems faced in daily operations of any railway company.\n",
    "\n",
    "![sparse rail](../../assets/images/sparse_railway.png)\n",
    "\n",
    "There are a number of parameters you can tune to build your own map and test different complexity levels of the levels.\n",
    "\n",
    "```{note}\n",
    "Some combinations of parameters do not go well together and will lead to infeasible level generation.\n",
    "In the worst case, the level generator will issue a warning when it cannot build the environment according to the parameters provided.\n",
    "```\n",
    "\n",
    "\n",
    "You can see that you now need both a `rail_generator` and a `line_generator` to generate a level. These need to work nicely together. The `rail_generator` will generate the railway infrastructure and provide hints to the `line_generator` about where to place agents. The `line_generator` will then generate a Line by placing agents at different train stations and providing them with individual targets.\n",
    "\n",
    "You can tune the following parameters in the `sparse_rail_generator`:\n",
    "\n",
    "- `max_num_cities`: Maximum number of cities to build. The generator tries to achieve this numbers given all the other parameters. Cities are the only nodes that can host start and end points for agent tasks (train stations). \n",
    "\n",
    "- `grid_mode`: How to distribute the cities in the path, either equally in a grid or randomly.\n",
    "\n",
    "- `max_rails_between_cities`: Maximum number of rails connecting cities. This is only the number of connection points at city border. The number of tracks drawn in-between cities can still vary.\n",
    "\n",
    "- `max_rails_in_city`: Maximum number of parallel tracks inside the city. This represents the number of tracks in the train stations.\n",
    "\n",
    "- `seed`: The random seed used to initialize the random generator. Can be used to generate reproducible networks."
   ]
  },
  {
   "cell_type": "markdown",
   "id": "08a2d722-fb55-4a01-be10-8d3f4ffdf69f",
   "metadata": {},
   "source": [
    "### 🎢 Over- and underpasses (aka. level-free diamond crossings)\n",
    "\n",
    "> This feature was introduced in [4.0.5](https://github.com/flatland-association/flatland-rl/pull/120)\n",
    "\n",
    "#### Description\n",
    "\n",
    "Introduce level-free crossings. This reflects core railway domain features.\n",
    "\n",
    "In particular, Diamond crossing can be defined to be level-free, which allows two trains to occupy the cell if one runs horizontal and the other vertical.\n",
    "\n",
    "#### Implementation\n",
    "`SparseRailGen` has a new option\n",
    "\n",
    "```\n",
    "        p_level_free : float\n",
    "            Percentage of diamond-crossings which are level-free.\n",
    "```\n",
    "\n",
    "`RailEnv` keeps tracks of level-free diamond crossings: \n",
    "\n",
    "```\n",
    "    self.level_free_positions: Set[Vector2D] = set()\n",
    "```\n",
    "The `RailEnv` will then allow two agents to be in the same cell concurrently if one is running horizontally and the other is running vertically."
   ]
  },
  {
   "cell_type": "markdown",
   "id": "9e718251-8225-4369-8d11-acc1dc65642a",
   "metadata": {},
   "source": [
    "## Line Generator\n",
    "\n",
    "### 🚄 Speed profiles (aka. Multi-Speed)\n",
    "\n",
    "> This feature was introduced in 3.0.0\n",
    "\n",
    "Finally, trains in real railway networks don't all move at the same speed. A freight train will for example be slower than a passenger train. This is an\n",
    "important consideration, as you want to avoid scheduling a fast train behind a slow train!\n",
    "\n",
    "\n",
    "\n",
    "\n",
    "\n",
    "Agents can have speed profiles, reflecting different train classes (passenger, freight, etc.).\n",
    "\n",
    "\n",
    "One of the main contributions to the complexity of railway network operations stems from the fact that all trains travel at different speeds while sharing a very limited railway network.\n",
    "In **Flat**land 3 this feature will be enabled as well and will lead to much more complex configurations. Here we count on your support if you find bugs or improvements  :).\n",
    "\n",
    "The different speed profiles can be generated using the `schedule_generator`, where you can actually chose as many different speeds as you like.\n",
    "Keep in mind that the *fastest speed* is 1 and all slower speeds must be between 1 and 0.\n",
    "For the submission scoring you can assume that there will be no more than 5 speed profiles.\n",
    "\n",
    "\n",
    "\n",
    "Later versions of **Flat**land might have varying speeds during episodes. Therefore, we return the agent speeds.\n",
    "Notice that we do not guarantee that the speed will be computed at each step, but if not costly we will return it at each step.\n",
    "In your controller, you can get the agents' speed from the `info` returned by `step`:\n",
    "```python\n",
    "obs, rew, done, info = env.step(actions)\n",
    "...\n",
    "for a in range(env.get_num_agents()):\n",
    "    speed = info['speed'][a]\n",
    "```\n",
    "\n"
   ]
  },
  {
   "cell_type": "code",
   "execution_count": null,
   "id": "db733c79-c292-4911-b829-45a6b908af9b",
   "metadata": {},
   "outputs": [],
   "source": [
    "import inspect\n",
    "\n",
    "from flatland.envs.agent_utils import EnvAgent\n",
    "from flatland.envs.rail_env import RailEnv\n",
    "from flatland.envs.rail_env_action import RailEnvActions\n",
    "from flatland.env_generation.env_generator import env_generator"
   ]
  },
  {
   "cell_type": "code",
   "execution_count": null,
   "id": "9a705abf-e649-4ec6-8efd-4dcee68bb0e4",
   "metadata": {},
   "outputs": [],
   "source": [
    "env, _, _ = env_generator()\n",
    "for _ in range(25):\n",
    "    obs, rew, done, info = env.step({i: RailEnvActions.MOVE_FORWARD for i in env.get_agent_handles()})\n",
    "print(\"after 25 steps\")\n",
    "for a in range(env.get_num_agents()):\n",
    "    speed = info['speed'][a]\n",
    "    print(f\"\\tagent {a} has speed {speed} in state {env.agents[a].state.name}\")\n",
    "print(\"after 26 steps\")\n",
    "obs, rew, done, info = env.step({i: RailEnvActions.STOP_MOVING for i in env.get_agent_handles()})\n",
    "for a in range(env.get_num_agents()):\n",
    "    speed = info['speed'][a]\n",
    "    print(f\"\\tagent {a} has speed {speed} in state {env.agents[a].state.name}\")"
   ]
  },
  {
   "cell_type": "markdown",
   "id": "a28022c5-58e2-413b-abb4-7720d589fc16",
   "metadata": {},
   "source": [
    "### 📉 Multi-stop Schedules (w/o alternatives/routing flexibility)\n",
    "\n",
    "> This feature was introduced in [4.0.5](https://github.com/flatland-association/flatland-rl/pull/124)\n",
    "\n",
    "#### Description\n",
    "\n",
    "Introduce intermediate targets in schedule and reward function. This reflects core railway domain features.\n",
    "\n",
    "In particular, Flatland timetable can have several intermediate targets with time window earliest, latest.\n",
    "(Negative) rewards for not serving intermediate targets or not respecting earliest/latest window can be configured.\n",
    "Schedule generator can be configured with number of intermediate targets.\n",
    "\n",
    "#### Implementation\n",
    "`flatland.envs.line_generators.SparseLineGen` takes an additional option\n",
    "```\n",
    "        line_length : int\n",
    "            The length of the lines. Defaults to 2.\n",
    "```\n",
    "\n",
    "A `Line` now allows for multiple intermediate positions/directions and a `Timetable` contains a time window for each stop:"
   ]
  },
  {
   "cell_type": "code",
   "execution_count": null,
   "id": "0ee34cea-8599-4a96-971e-df6351722667",
   "metadata": {},
   "outputs": [],
   "source": [
    "import inspect\n",
    "import flatland.envs.timetable_utils\n",
    "print(\"\".join(inspect.getsourcelines(flatland.envs.timetable_utils)[0]))"
   ]
  },
  {
   "cell_type": "markdown",
   "id": "1a2e9a9d-c241-47c1-b035-b4ac8993df19",
   "metadata": {},
   "source": [
    "In addition, `Rewards` introduces 3 new penalties for intermediate stops:\n",
    "```\n",
    "    - intermediate_not_served_penalty = -1\n",
    "    - intermediate_late_arrival_penalty_factor = 0.2\n",
    "    - intermediate_early_departure_penalty_factor = 0.5\n",
    "```"
   ]
  },
  {
   "cell_type": "markdown",
   "id": "f88bdd4a-ac9a-4788-943b-fb51c4c33ff4",
   "metadata": {},
   "source": [
    "Note that `earliest_departure` at the initial position is enforced by the `RailEnv` (i.e. an agent cannot start before that timestep) whereas the time windows for intermediate stops are not enforced by the `RailEnv` but penalized only by the `Rewards` configuration."
   ]
  },
  {
   "cell_type": "markdown",
   "id": "cca82420-1b35-4c80-8eb8-ce63bae8f9b5",
   "metadata": {},
   "source": [
    "## Timetable Generator\n",
    "\n",
    "\n",
    "> This feature was introduced in `flatland 3.0.0`\n",
    "\n",
    "### Background\n",
    "\n",
    "Up until this point, the trains in **Flat**land were allowed to depart and arrive whenever they desired, the only goal was to make every train reach its\n",
    "destination as fast as possible. However, things are quite different in the real world. Timing and punctuality are crucial to railways. Trains have specific\n",
    "schedules. They are expected to depart and arrive at particular times.\n",
    "\n",
    "This concept has been introduced to the environment in **Flat**land 3.0. Trains now have a time window within which they are expected to start and reach their\n",
    "destination."
   ]
  }
 ],
 "metadata": {
  "kernelspec": {
   "display_name": "Python 3 (ipykernel)",
   "language": "python",
   "name": "python3"
  },
  "language_info": {
   "codemirror_mode": {
    "name": "ipython",
    "version": 3
   },
   "file_extension": ".py",
   "mimetype": "text/x-python",
   "name": "python",
   "nbconvert_exporter": "python",
   "pygments_lexer": "ipython3",
   "version": "3.12.9"
  }
 },
 "nbformat": 4,
 "nbformat_minor": 5
}
